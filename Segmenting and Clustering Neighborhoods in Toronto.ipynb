{
    "cells": [
        {
            "metadata": {
                "collapsed": true
            },
            "cell_type": "markdown",
            "source": "# Extract data of Toronto neighborhoods from Wikipedia"
        },
        {
            "metadata": {},
            "cell_type": "markdown",
            "source": "Build the code to scrape the following Wikipedia page, in order to obtain the data that is in the table of postal codes and to transform the data into a pandas dataframe "
        },
        {
            "metadata": {},
            "cell_type": "code",
            "source": "!pip install beautifulsoup4\n!pip install lxml\nimport requests # library to handle requests\nimport pandas as pd # library for data analsysis\nimport numpy as np # library to handle data in a vectorized manner\nimport random # library for random number generation\n\n#!conda install -c conda-forge geopy --yes \nfrom geopy.geocoders import Nominatim # module to convert an address into latitude and longitude values\n\n# libraries for displaying images\nfrom IPython.display import Image \nfrom IPython.core.display import HTML \n\n\nfrom IPython.display import display_html\nimport pandas as pd\nimport numpy as np\n    \n# tranforming json file into a pandas dataframe library\nfrom pandas.io.json import json_normalize\n\n!conda install -c conda-forge folium=0.5.0 --yes\nimport folium # plotting library\nfrom bs4 import BeautifulSoup\nfrom sklearn.cluster import KMeans\nimport matplotlib.cm as cm\nimport matplotlib.colors as colors\n\nprint('Folium installed')\nprint('Libraries imported.')",
            "execution_count": 41,
            "outputs": [
                {
                    "output_type": "stream",
                    "text": "Requirement already satisfied: beautifulsoup4 in /opt/conda/envs/Python36/lib/python3.6/site-packages (4.7.1)\nRequirement already satisfied: soupsieve>=1.2 in /opt/conda/envs/Python36/lib/python3.6/site-packages (from beautifulsoup4) (1.7.1)\nRequirement already satisfied: lxml in /opt/conda/envs/Python36/lib/python3.6/site-packages (4.3.1)\nSolving environment: done\n\n## Package Plan ##\n\n  environment location: /opt/conda/envs/Python36\n\n  added / updated specs: \n    - folium=0.5.0\n\n\nThe following packages will be downloaded:\n\n    package                    |            build\n    ---------------------------|-----------------\n    certifi-2020.4.5.1         |   py36h9f0ad1d_0         151 KB  conda-forge\n    ca-certificates-2020.4.5.1 |       hecc5488_0         146 KB  conda-forge\n    python_abi-3.6             |          1_cp36m           4 KB  conda-forge\n    vincent-0.4.4              |             py_1          28 KB  conda-forge\n    folium-0.5.0               |             py_0          45 KB  conda-forge\n    altair-4.1.0               |             py_1         614 KB  conda-forge\n    openssl-1.1.1g             |       h516909a_0         2.1 MB  conda-forge\n    branca-0.4.1               |             py_0          26 KB  conda-forge\n    ------------------------------------------------------------\n                                           Total:         3.1 MB\n\nThe following NEW packages will be INSTALLED:\n\n    altair:          4.1.0-py_1        conda-forge\n    branca:          0.4.1-py_0        conda-forge\n    folium:          0.5.0-py_0        conda-forge\n    python_abi:      3.6-1_cp36m       conda-forge\n    vincent:         0.4.4-py_1        conda-forge\n\nThe following packages will be UPDATED:\n\n    ca-certificates: 2020.1.1-0                    --> 2020.4.5.1-hecc5488_0     conda-forge\n    certifi:         2020.4.5.1-py36_0             --> 2020.4.5.1-py36h9f0ad1d_0 conda-forge\n    openssl:         1.1.1g-h7b6447c_0             --> 1.1.1g-h516909a_0         conda-forge\n\n\nDownloading and Extracting Packages\ncertifi-2020.4.5.1   | 151 KB    | ##################################### | 100% \nca-certificates-2020 | 146 KB    | ##################################### | 100% \npython_abi-3.6       | 4 KB      | ##################################### | 100% \nvincent-0.4.4        | 28 KB     | ##################################### | 100% \nfolium-0.5.0         | 45 KB     | ##################################### | 100% \naltair-4.1.0         | 614 KB    | ##################################### | 100% \nopenssl-1.1.1g       | 2.1 MB    | ##################################### | 100% \nbranca-0.4.1         | 26 KB     | ##################################### | 100% \nPreparing transaction: done\nVerifying transaction: done\nExecuting transaction: done\nFolium installed\nLibraries imported.\n",
                    "name": "stdout"
                }
            ]
        },
        {
            "metadata": {},
            "cell_type": "markdown",
            "source": "### Scraping the Wikipedia page for the table of postal codes of Canada"
        },
        {
            "metadata": {},
            "cell_type": "code",
            "source": "source = requests.get('https://en.wikipedia.org/wiki/List_of_postal_codes_of_Canada:_M').text\nsoup=BeautifulSoup(source,'lxml')\nprint(soup.title)\nfrom IPython.display import display_html\ntab = str(soup.table)\ndisplay_html(tab,raw=True)",
            "execution_count": 42,
            "outputs": [
                {
                    "output_type": "stream",
                    "text": "<title>List of postal codes of Canada: M - Wikipedia</title>\n",
                    "name": "stdout"
                },
                {
                    "output_type": "display_data",
                    "data": {
                        "text/html": "<table class=\"wikitable sortable\">\n<tbody><tr>\n<th>Postal Code\n</th>\n<th>Borough\n</th>\n<th>Neighborhood\n</th></tr>\n<tr>\n<td>M1A\n</td>\n<td>Not assigned\n</td>\n<td>\n</td></tr>\n<tr>\n<td>M2A\n</td>\n<td>Not assigned\n</td>\n<td>\n</td></tr>\n<tr>\n<td>M3A\n</td>\n<td>North York\n</td>\n<td>Parkwoods\n</td></tr>\n<tr>\n<td>M4A\n</td>\n<td>North York\n</td>\n<td>Victoria Village\n</td></tr>\n<tr>\n<td>M5A\n</td>\n<td>Downtown Toronto\n</td>\n<td>Regent Park, Harbourfront\n</td></tr>\n<tr>\n<td>M6A\n</td>\n<td>North York\n</td>\n<td>Lawrence Manor, Lawrence Heights\n</td></tr>\n<tr>\n<td>M7A\n</td>\n<td>Downtown Toronto\n</td>\n<td>Queen's Park, Ontario Provincial Government\n</td></tr>\n<tr>\n<td>M8A\n</td>\n<td>Not assigned\n</td>\n<td>\n</td></tr>\n<tr>\n<td>M9A\n</td>\n<td>Etobicoke\n</td>\n<td>Islington Avenue\n</td></tr>\n<tr>\n<td>M1B\n</td>\n<td>Scarborough\n</td>\n<td>Malvern, Rouge\n</td></tr>\n<tr>\n<td>M2B\n</td>\n<td>Not assigned\n</td>\n<td>\n</td></tr>\n<tr>\n<td>M3B\n</td>\n<td>North York\n</td>\n<td>Don Mills\n</td></tr>\n<tr>\n<td>M4B\n</td>\n<td>East York\n</td>\n<td>Parkview Hill, Woodbine Gardens\n</td></tr>\n<tr>\n<td>M5B\n</td>\n<td>Downtown Toronto\n</td>\n<td>Garden District, Ryerson\n</td></tr>\n<tr>\n<td>M6B\n</td>\n<td>North York\n</td>\n<td>Glencairn\n</td></tr>\n<tr>\n<td>M7B\n</td>\n<td>Not assigned\n</td>\n<td>\n</td></tr>\n<tr>\n<td>M8B\n</td>\n<td>Not assigned\n</td>\n<td>\n</td></tr>\n<tr>\n<td>M9B\n</td>\n<td>Etobicoke\n</td>\n<td>West Deane Park, Princess Gardens, Martin Grove, Islington, Cloverdale\n</td></tr>\n<tr>\n<td>M1C\n</td>\n<td>Scarborough\n</td>\n<td>Rouge Hill, Port Union, Highland Creek\n</td></tr>\n<tr>\n<td>M2C\n</td>\n<td>Not assigned\n</td>\n<td>\n</td></tr>\n<tr>\n<td>M3C\n</td>\n<td>North York\n</td>\n<td>Don Mills\n</td></tr>\n<tr>\n<td>M4C\n</td>\n<td>East York\n</td>\n<td>Woodbine Heights\n</td></tr>\n<tr>\n<td>M5C\n</td>\n<td>Downtown Toronto\n</td>\n<td>St. James Town\n</td></tr>\n<tr>\n<td>M6C\n</td>\n<td>York\n</td>\n<td>Humewood-Cedarvale\n</td></tr>\n<tr>\n<td>M7C\n</td>\n<td>Not assigned\n</td>\n<td>\n</td></tr>\n<tr>\n<td>M8C\n</td>\n<td>Not assigned\n</td>\n<td>\n</td></tr>\n<tr>\n<td>M9C\n</td>\n<td>Etobicoke\n</td>\n<td>Eringate, Bloordale Gardens, Old Burnhamthorpe, Markland Wood\n</td></tr>\n<tr>\n<td>M1E\n</td>\n<td>Scarborough\n</td>\n<td>Guildwood, Morningside, West Hill\n</td></tr>\n<tr>\n<td>M2E\n</td>\n<td>Not assigned\n</td>\n<td>\n</td></tr>\n<tr>\n<td>M3E\n</td>\n<td>Not assigned\n</td>\n<td>\n</td></tr>\n<tr>\n<td>M4E\n</td>\n<td>East Toronto\n</td>\n<td>The Beaches\n</td></tr>\n<tr>\n<td>M5E\n</td>\n<td>Downtown Toronto\n</td>\n<td>Berczy Park\n</td></tr>\n<tr>\n<td>M6E\n</td>\n<td>York\n</td>\n<td>Caledonia-Fairbanks\n</td></tr>\n<tr>\n<td>M7E\n</td>\n<td>Not assigned\n</td>\n<td>\n</td></tr>\n<tr>\n<td>M8E\n</td>\n<td>Not assigned\n</td>\n<td>\n</td></tr>\n<tr>\n<td>M9E\n</td>\n<td>Not assigned\n</td>\n<td>\n</td></tr>\n<tr>\n<td>M1G\n</td>\n<td>Scarborough\n</td>\n<td>Woburn\n</td></tr>\n<tr>\n<td>M2G\n</td>\n<td>Not assigned\n</td>\n<td>\n</td></tr>\n<tr>\n<td>M3G\n</td>\n<td>Not assigned\n</td>\n<td>\n</td></tr>\n<tr>\n<td>M4G\n</td>\n<td>East York\n</td>\n<td>Leaside\n</td></tr>\n<tr>\n<td>M5G\n</td>\n<td>Downtown Toronto\n</td>\n<td>Central Bay Street\n</td></tr>\n<tr>\n<td>M6G\n</td>\n<td>Downtown Toronto\n</td>\n<td>Christie\n</td></tr>\n<tr>\n<td>M7G\n</td>\n<td>Not assigned\n</td>\n<td>\n</td></tr>\n<tr>\n<td>M8G\n</td>\n<td>Not assigned\n</td>\n<td>\n</td></tr>\n<tr>\n<td>M9G\n</td>\n<td>Not assigned\n</td>\n<td>\n</td></tr>\n<tr>\n<td>M1H\n</td>\n<td>Scarborough\n</td>\n<td>Cedarbrae\n</td></tr>\n<tr>\n<td>M2H\n</td>\n<td>North York\n</td>\n<td>Hillcrest Village\n</td></tr>\n<tr>\n<td>M3H\n</td>\n<td>North York\n</td>\n<td>Bathurst Manor, Wilson Heights, Downsview North\n</td></tr>\n<tr>\n<td>M4H\n</td>\n<td>East York\n</td>\n<td>Thorncliffe Park\n</td></tr>\n<tr>\n<td>M5H\n</td>\n<td>Downtown Toronto\n</td>\n<td>Richmond, Adelaide, King\n</td></tr>\n<tr>\n<td>M6H\n</td>\n<td>West Toronto\n</td>\n<td>Dufferin, Dovercourt Village\n</td></tr>\n<tr>\n<td>M7H\n</td>\n<td>Not assigned\n</td>\n<td>\n</td></tr>\n<tr>\n<td>M8H\n</td>\n<td>Not assigned\n</td>\n<td>\n</td></tr>\n<tr>\n<td>M9H\n</td>\n<td>Not assigned\n</td>\n<td>\n</td></tr>\n<tr>\n<td>M1J\n</td>\n<td>Scarborough\n</td>\n<td>Scarborough Village\n</td></tr>\n<tr>\n<td>M2J\n</td>\n<td>North York\n</td>\n<td>Fairview, Henry Farm, Oriole\n</td></tr>\n<tr>\n<td>M3J\n</td>\n<td>North York\n</td>\n<td>Northwood Park, York University\n</td></tr>\n<tr>\n<td>M4J\n</td>\n<td>East York\n</td>\n<td>East Toronto\n</td></tr>\n<tr>\n<td>M5J\n</td>\n<td>Downtown Toronto\n</td>\n<td>Harbourfront East, Union Station, Toronto Islands\n</td></tr>\n<tr>\n<td>M6J\n</td>\n<td>West Toronto\n</td>\n<td>Little Portugal, Trinity\n</td></tr>\n<tr>\n<td>M7J\n</td>\n<td>Not assigned\n</td>\n<td>\n</td></tr>\n<tr>\n<td>M8J\n</td>\n<td>Not assigned\n</td>\n<td>\n</td></tr>\n<tr>\n<td>M9J\n</td>\n<td>Not assigned\n</td>\n<td>\n</td></tr>\n<tr>\n<td>M1K\n</td>\n<td>Scarborough\n</td>\n<td>Kennedy Park, Ionview, East Birchmount Park\n</td></tr>\n<tr>\n<td>M2K\n</td>\n<td>North York\n</td>\n<td>Bayview Village\n</td></tr>\n<tr>\n<td>M3K\n</td>\n<td>North York\n</td>\n<td>Downsview\n</td></tr>\n<tr>\n<td>M4K\n</td>\n<td>East Toronto\n</td>\n<td>The Danforth West, Riverdale\n</td></tr>\n<tr>\n<td>M5K\n</td>\n<td>Downtown Toronto\n</td>\n<td>Toronto Dominion Centre, Design Exchange\n</td></tr>\n<tr>\n<td>M6K\n</td>\n<td>West Toronto\n</td>\n<td>Brockton, Parkdale Village, Exhibition Place\n</td></tr>\n<tr>\n<td>M7K\n</td>\n<td>Not assigned\n</td>\n<td>\n</td></tr>\n<tr>\n<td>M8K\n</td>\n<td>Not assigned\n</td>\n<td>\n</td></tr>\n<tr>\n<td>M9K\n</td>\n<td>Not assigned\n</td>\n<td>\n</td></tr>\n<tr>\n<td>M1L\n</td>\n<td>Scarborough\n</td>\n<td>Golden Mile, Clairlea, Oakridge\n</td></tr>\n<tr>\n<td>M2L\n</td>\n<td>North York\n</td>\n<td>York Mills, Silver Hills\n</td></tr>\n<tr>\n<td>M3L\n</td>\n<td>North York\n</td>\n<td>Downsview\n</td></tr>\n<tr>\n<td>M4L\n</td>\n<td>East Toronto\n</td>\n<td>India Bazaar, The Beaches West\n</td></tr>\n<tr>\n<td>M5L\n</td>\n<td>Downtown Toronto\n</td>\n<td>Commerce Court, Victoria Hotel\n</td></tr>\n<tr>\n<td>M6L\n</td>\n<td>North York\n</td>\n<td>North Park, Maple Leaf Park, Upwood Park\n</td></tr>\n<tr>\n<td>M7L\n</td>\n<td>Not assigned\n</td>\n<td>\n</td></tr>\n<tr>\n<td>M8L\n</td>\n<td>Not assigned\n</td>\n<td>\n</td></tr>\n<tr>\n<td>M9L\n</td>\n<td>North York\n</td>\n<td>Humber Summit\n</td></tr>\n<tr>\n<td>M1M\n</td>\n<td>Scarborough\n</td>\n<td>Cliffside, Cliffcrest, Scarborough Village West\n</td></tr>\n<tr>\n<td>M2M\n</td>\n<td>North York\n</td>\n<td>Willowdale, Newtonbrook\n</td></tr>\n<tr>\n<td>M3M\n</td>\n<td>North York\n</td>\n<td>Downsview\n</td></tr>\n<tr>\n<td>M4M\n</td>\n<td>East Toronto\n</td>\n<td>Studio District\n</td></tr>\n<tr>\n<td>M5M\n</td>\n<td>North York\n</td>\n<td>Bedford Park, Lawrence Manor East\n</td></tr>\n<tr>\n<td>M6M\n</td>\n<td>York\n</td>\n<td>Del Ray, Mount Dennis, Keelsdale and Silverthorn\n</td></tr>\n<tr>\n<td>M7M\n</td>\n<td>Not assigned\n</td>\n<td>\n</td></tr>\n<tr>\n<td>M8M\n</td>\n<td>Not assigned\n</td>\n<td>\n</td></tr>\n<tr>\n<td>M9M\n</td>\n<td>North York\n</td>\n<td>Humberlea, Emery\n</td></tr>\n<tr>\n<td>M1N\n</td>\n<td>Scarborough\n</td>\n<td>Birch Cliff, Cliffside West\n</td></tr>\n<tr>\n<td>M2N\n</td>\n<td>North York\n</td>\n<td>Willowdale\n</td></tr>\n<tr>\n<td>M3N\n</td>\n<td>North York\n</td>\n<td>Downsview\n</td></tr>\n<tr>\n<td>M4N\n</td>\n<td>Central Toronto\n</td>\n<td>Lawrence Park\n</td></tr>\n<tr>\n<td>M5N\n</td>\n<td>Central Toronto\n</td>\n<td>Roselawn\n</td></tr>\n<tr>\n<td>M6N\n</td>\n<td>York\n</td>\n<td>Runnymede, The Junction North\n</td></tr>\n<tr>\n<td>M7N\n</td>\n<td>Not assigned\n</td>\n<td>\n</td></tr>\n<tr>\n<td>M8N\n</td>\n<td>Not assigned\n</td>\n<td>\n</td></tr>\n<tr>\n<td>M9N\n</td>\n<td>York\n</td>\n<td>Weston\n</td></tr>\n<tr>\n<td>M1P\n</td>\n<td>Scarborough\n</td>\n<td>Dorset Park, Wexford Heights, Scarborough Town Centre\n</td></tr>\n<tr>\n<td>M2P\n</td>\n<td>North York\n</td>\n<td>York Mills West\n</td></tr>\n<tr>\n<td>M3P\n</td>\n<td>Not assigned\n</td>\n<td>\n</td></tr>\n<tr>\n<td>M4P\n</td>\n<td>Central Toronto\n</td>\n<td>Davisville North\n</td></tr>\n<tr>\n<td>M5P\n</td>\n<td>Central Toronto\n</td>\n<td>Forest Hill North &amp; West\n</td></tr>\n<tr>\n<td>M6P\n</td>\n<td>West Toronto\n</td>\n<td>High Park, The Junction South\n</td></tr>\n<tr>\n<td>M7P\n</td>\n<td>Not assigned\n</td>\n<td>\n</td></tr>\n<tr>\n<td>M8P\n</td>\n<td>Not assigned\n</td>\n<td>\n</td></tr>\n<tr>\n<td>M9P\n</td>\n<td>Etobicoke\n</td>\n<td>Westmount\n</td></tr>\n<tr>\n<td>M1R\n</td>\n<td>Scarborough\n</td>\n<td>Wexford, Maryvale\n</td></tr>\n<tr>\n<td>M2R\n</td>\n<td>North York\n</td>\n<td>Willowdale\n</td></tr>\n<tr>\n<td>M3R\n</td>\n<td>Not assigned\n</td>\n<td>\n</td></tr>\n<tr>\n<td>M4R\n</td>\n<td>Central Toronto\n</td>\n<td>North Toronto West\n</td></tr>\n<tr>\n<td>M5R\n</td>\n<td>Central Toronto\n</td>\n<td>The Annex, North Midtown, Yorkville\n</td></tr>\n<tr>\n<td>M6R\n</td>\n<td>West Toronto\n</td>\n<td>Parkdale, Roncesvalles\n</td></tr>\n<tr>\n<td>M7R\n</td>\n<td>Mississauga\n</td>\n<td>Canada Post Gateway Processing Centre\n</td></tr>\n<tr>\n<td>M8R\n</td>\n<td>Not assigned\n</td>\n<td>\n</td></tr>\n<tr>\n<td>M9R\n</td>\n<td>Etobicoke\n</td>\n<td>Kingsview Village, St. Phillips, Martin Grove Gardens, Richview Gardens\n</td></tr>\n<tr>\n<td>M1S\n</td>\n<td>Scarborough\n</td>\n<td>Agincourt\n</td></tr>\n<tr>\n<td>M2S\n</td>\n<td>Not assigned\n</td>\n<td>\n</td></tr>\n<tr>\n<td>M3S\n</td>\n<td>Not assigned\n</td>\n<td>\n</td></tr>\n<tr>\n<td>M4S\n</td>\n<td>Central Toronto\n</td>\n<td>Davisville\n</td></tr>\n<tr>\n<td>M5S\n</td>\n<td>Downtown Toronto\n</td>\n<td>University of Toronto, Harbord\n</td></tr>\n<tr>\n<td>M6S\n</td>\n<td>West Toronto\n</td>\n<td>Runnymede, Swansea\n</td></tr>\n<tr>\n<td>M7S\n</td>\n<td>Not assigned\n</td>\n<td>\n</td></tr>\n<tr>\n<td>M8S\n</td>\n<td>Not assigned\n</td>\n<td>\n</td></tr>\n<tr>\n<td>M9S\n</td>\n<td>Not assigned\n</td>\n<td>\n</td></tr>\n<tr>\n<td>M1T\n</td>\n<td>Scarborough\n</td>\n<td>Clarks Corners, Tam O'Shanter, Sullivan\n</td></tr>\n<tr>\n<td>M2T\n</td>\n<td>Not assigned\n</td>\n<td>\n</td></tr>\n<tr>\n<td>M3T\n</td>\n<td>Not assigned\n</td>\n<td>\n</td></tr>\n<tr>\n<td>M4T\n</td>\n<td>Central Toronto\n</td>\n<td>Moore Park, Summerhill East\n</td></tr>\n<tr>\n<td>M5T\n</td>\n<td>Downtown Toronto\n</td>\n<td>Kensington Market, Chinatown, Grange Park\n</td></tr>\n<tr>\n<td>M6T\n</td>\n<td>Not assigned\n</td>\n<td>\n</td></tr>\n<tr>\n<td>M7T\n</td>\n<td>Not assigned\n</td>\n<td>\n</td></tr>\n<tr>\n<td>M8T\n</td>\n<td>Not assigned\n</td>\n<td>\n</td></tr>\n<tr>\n<td>M9T\n</td>\n<td>Not assigned\n</td>\n<td>\n</td></tr>\n<tr>\n<td>M1V\n</td>\n<td>Scarborough\n</td>\n<td>Milliken, Agincourt North, Steeles East, L'Amoreaux East\n</td></tr>\n<tr>\n<td>M2V\n</td>\n<td>Not assigned\n</td>\n<td>\n</td></tr>\n<tr>\n<td>M3V\n</td>\n<td>Not assigned\n</td>\n<td>\n</td></tr>\n<tr>\n<td>M4V\n</td>\n<td>Central Toronto\n</td>\n<td>Summerhill West, Rathnelly, South Hill, Forest Hill SE, Deer Park\n</td></tr>\n<tr>\n<td>M5V\n</td>\n<td>Downtown Toronto\n</td>\n<td>CN Tower, King and Spadina, Railway Lands, Harbourfront West, Bathurst Quay, South Niagara, Island airport\n</td></tr>\n<tr>\n<td>M6V\n</td>\n<td>Not assigned\n</td>\n<td>\n</td></tr>\n<tr>\n<td>M7V\n</td>\n<td>Not assigned\n</td>\n<td>\n</td></tr>\n<tr>\n<td>M8V\n</td>\n<td>Etobicoke\n</td>\n<td>New Toronto, Mimico South, Humber Bay Shores\n</td></tr>\n<tr>\n<td>M9V\n</td>\n<td>Etobicoke\n</td>\n<td>South Steeles, Silverstone, Humbergate, Jamestown, Mount Olive, Beaumond Heights, Thistletown, Albion Gardens\n</td></tr>\n<tr>\n<td>M1W\n</td>\n<td>Scarborough\n</td>\n<td>Steeles West, L'Amoreaux West\n</td></tr>\n<tr>\n<td>M2W\n</td>\n<td>Not assigned\n</td>\n<td>\n</td></tr>\n<tr>\n<td>M3W\n</td>\n<td>Not assigned\n</td>\n<td>\n</td></tr>\n<tr>\n<td>M4W\n</td>\n<td>Downtown Toronto\n</td>\n<td>Rosedale\n</td></tr>\n<tr>\n<td>M5W\n</td>\n<td>Downtown Toronto\n</td>\n<td>Stn A PO Boxes\n</td></tr>\n<tr>\n<td>M6W\n</td>\n<td>Not assigned\n</td>\n<td>\n</td></tr>\n<tr>\n<td>M7W\n</td>\n<td>Not assigned\n</td>\n<td>\n</td></tr>\n<tr>\n<td>M8W\n</td>\n<td>Etobicoke\n</td>\n<td>Alderwood, Long Branch\n</td></tr>\n<tr>\n<td>M9W\n</td>\n<td>Etobicoke\n</td>\n<td>Northwest\n</td></tr>\n<tr>\n<td>M1X\n</td>\n<td>Scarborough\n</td>\n<td>Upper Rouge\n</td></tr>\n<tr>\n<td>M2X\n</td>\n<td>Not assigned\n</td>\n<td>\n</td></tr>\n<tr>\n<td>M3X\n</td>\n<td>Not assigned\n</td>\n<td>\n</td></tr>\n<tr>\n<td>M4X\n</td>\n<td>Downtown Toronto\n</td>\n<td>St. James Town, Cabbagetown\n</td></tr>\n<tr>\n<td>M5X\n</td>\n<td>Downtown Toronto\n</td>\n<td>First Canadian Place, Underground city\n</td></tr>\n<tr>\n<td>M6X\n</td>\n<td>Not assigned\n</td>\n<td>\n</td></tr>\n<tr>\n<td>M7X\n</td>\n<td>Not assigned\n</td>\n<td>\n</td></tr>\n<tr>\n<td>M8X\n</td>\n<td>Etobicoke\n</td>\n<td>The Kingsway, Montgomery Road, Old Mill North\n</td></tr>\n<tr>\n<td>M9X\n</td>\n<td>Not assigned\n</td>\n<td>\n</td></tr>\n<tr>\n<td>M1Y\n</td>\n<td>Not assigned\n</td>\n<td>\n</td></tr>\n<tr>\n<td>M2Y\n</td>\n<td>Not assigned\n</td>\n<td>\n</td></tr>\n<tr>\n<td>M3Y\n</td>\n<td>Not assigned\n</td>\n<td>\n</td></tr>\n<tr>\n<td>M4Y\n</td>\n<td>Downtown Toronto\n</td>\n<td>Church and Wellesley\n</td></tr>\n<tr>\n<td>M5Y\n</td>\n<td>Not assigned\n</td>\n<td>\n</td></tr>\n<tr>\n<td>M6Y\n</td>\n<td>Not assigned\n</td>\n<td>\n</td></tr>\n<tr>\n<td>M7Y\n</td>\n<td>East Toronto\n</td>\n<td>Business reply mail Processing Centre\n</td></tr>\n<tr>\n<td>M8Y\n</td>\n<td>Etobicoke\n</td>\n<td>Old Mill South, King's Mill Park, Sunnylea, Humber Bay, Mimico NE, The Queensway East, Royal York South East, Kingsway Park South East\n</td></tr>\n<tr>\n<td>M9Y\n</td>\n<td>Not assigned\n</td>\n<td>\n</td></tr>\n<tr>\n<td>M1Z\n</td>\n<td>Not assigned\n</td>\n<td>\n</td></tr>\n<tr>\n<td>M2Z\n</td>\n<td>Not assigned\n</td>\n<td>\n</td></tr>\n<tr>\n<td>M3Z\n</td>\n<td>Not assigned\n</td>\n<td>\n</td></tr>\n<tr>\n<td>M4Z\n</td>\n<td>Not assigned\n</td>\n<td>\n</td></tr>\n<tr>\n<td>M5Z\n</td>\n<td>Not assigned\n</td>\n<td>\n</td></tr>\n<tr>\n<td>M6Z\n</td>\n<td>Not assigned\n</td>\n<td>\n</td></tr>\n<tr>\n<td>M7Z\n</td>\n<td>Not assigned\n</td>\n<td>\n</td></tr>\n<tr>\n<td>M8Z\n</td>\n<td>Etobicoke\n</td>\n<td>Mimico NW, The Queensway West, South of Bloor, Kingsway Park South West, Royal York South West\n</td></tr>\n<tr>\n<td>M9Z\n</td>\n<td>Not assigned\n</td>\n<td>\n</td></tr></tbody></table>"
                    },
                    "metadata": {}
                }
            ]
        },
        {
            "metadata": {},
            "cell_type": "markdown",
            "source": "### The html table is converted to Pandas DataFrame for cleaning and preprocessing"
        },
        {
            "metadata": {},
            "cell_type": "code",
            "source": "dfs = pd.read_html(tab)\ndf=dfs[0]\ndf.head()",
            "execution_count": 44,
            "outputs": [
                {
                    "output_type": "execute_result",
                    "execution_count": 44,
                    "data": {
                        "text/plain": "  Postal Code           Borough               Neighborhood\n0         M1A      Not assigned                        NaN\n1         M2A      Not assigned                        NaN\n2         M3A        North York                  Parkwoods\n3         M4A        North York           Victoria Village\n4         M5A  Downtown Toronto  Regent Park, Harbourfront",
                        "text/html": "<div>\n<style scoped>\n    .dataframe tbody tr th:only-of-type {\n        vertical-align: middle;\n    }\n\n    .dataframe tbody tr th {\n        vertical-align: top;\n    }\n\n    .dataframe thead th {\n        text-align: right;\n    }\n</style>\n<table border=\"1\" class=\"dataframe\">\n  <thead>\n    <tr style=\"text-align: right;\">\n      <th></th>\n      <th>Postal Code</th>\n      <th>Borough</th>\n      <th>Neighborhood</th>\n    </tr>\n  </thead>\n  <tbody>\n    <tr>\n      <th>0</th>\n      <td>M1A</td>\n      <td>Not assigned</td>\n      <td>NaN</td>\n    </tr>\n    <tr>\n      <th>1</th>\n      <td>M2A</td>\n      <td>Not assigned</td>\n      <td>NaN</td>\n    </tr>\n    <tr>\n      <th>2</th>\n      <td>M3A</td>\n      <td>North York</td>\n      <td>Parkwoods</td>\n    </tr>\n    <tr>\n      <th>3</th>\n      <td>M4A</td>\n      <td>North York</td>\n      <td>Victoria Village</td>\n    </tr>\n    <tr>\n      <th>4</th>\n      <td>M5A</td>\n      <td>Downtown Toronto</td>\n      <td>Regent Park, Harbourfront</td>\n    </tr>\n  </tbody>\n</table>\n</div>"
                    },
                    "metadata": {}
                }
            ]
        },
        {
            "metadata": {},
            "cell_type": "markdown",
            "source": "### **Data cleaning**"
        },
        {
            "metadata": {},
            "cell_type": "code",
            "source": "df = df.replace('Not assigned',np.nan, regex=True)\ndf.head()",
            "execution_count": 52,
            "outputs": [
                {
                    "output_type": "execute_result",
                    "execution_count": 52,
                    "data": {
                        "text/plain": "  Postalcode        Borough                                       Neighborhood\n0      M1A\\n            NaN                                             , , , \n1      M1B\\n  Scarborough\\n  Malvern, Rouge, Malvern, Rouge, Malvern, Rouge...\n2      M1C\\n  Scarborough\\n  Rouge Hill, Port Union, Highland Creek, Rouge ...\n3      M1E\\n  Scarborough\\n  Guildwood, Morningside, West Hill, Guildwood, ...\n4      M1G\\n  Scarborough\\n                     Woburn, Woburn, Woburn, Woburn",
                        "text/html": "<div>\n<style scoped>\n    .dataframe tbody tr th:only-of-type {\n        vertical-align: middle;\n    }\n\n    .dataframe tbody tr th {\n        vertical-align: top;\n    }\n\n    .dataframe thead th {\n        text-align: right;\n    }\n</style>\n<table border=\"1\" class=\"dataframe\">\n  <thead>\n    <tr style=\"text-align: right;\">\n      <th></th>\n      <th>Postalcode</th>\n      <th>Borough</th>\n      <th>Neighborhood</th>\n    </tr>\n  </thead>\n  <tbody>\n    <tr>\n      <th>0</th>\n      <td>M1A\\n</td>\n      <td>NaN</td>\n      <td>, , ,</td>\n    </tr>\n    <tr>\n      <th>1</th>\n      <td>M1B\\n</td>\n      <td>Scarborough\\n</td>\n      <td>Malvern, Rouge, Malvern, Rouge, Malvern, Rouge...</td>\n    </tr>\n    <tr>\n      <th>2</th>\n      <td>M1C\\n</td>\n      <td>Scarborough\\n</td>\n      <td>Rouge Hill, Port Union, Highland Creek, Rouge ...</td>\n    </tr>\n    <tr>\n      <th>3</th>\n      <td>M1E\\n</td>\n      <td>Scarborough\\n</td>\n      <td>Guildwood, Morningside, West Hill, Guildwood, ...</td>\n    </tr>\n    <tr>\n      <th>4</th>\n      <td>M1G\\n</td>\n      <td>Scarborough\\n</td>\n      <td>Woburn, Woburn, Woburn, Woburn</td>\n    </tr>\n  </tbody>\n</table>\n</div>"
                    },
                    "metadata": {}
                }
            ]
        },
        {
            "metadata": {},
            "cell_type": "markdown",
            "source": "Remove rows where Borough is 'Not assigned'"
        },
        {
            "metadata": {},
            "cell_type": "code",
            "source": "df.dropna(subset=[\"Borough\"], axis=0, inplace=True)\ndf = df.reset_index(drop=True)\ndf.head(10)",
            "execution_count": 56,
            "outputs": [
                {
                    "output_type": "execute_result",
                    "execution_count": 56,
                    "data": {
                        "text/plain": "  Postalcode        Borough                                       Neighborhood\n0      M1B\\n  Scarborough\\n  Malvern, Rouge, Malvern, Rouge, Malvern, Rouge...\n1      M1C\\n  Scarborough\\n  Rouge Hill, Port Union, Highland Creek, Rouge ...\n2      M1E\\n  Scarborough\\n  Guildwood, Morningside, West Hill, Guildwood, ...\n3      M1G\\n  Scarborough\\n                     Woburn, Woburn, Woburn, Woburn\n4      M1H\\n  Scarborough\\n         Cedarbrae, Cedarbrae, Cedarbrae, Cedarbrae\n5      M1J\\n  Scarborough\\n  Scarborough Village, Scarborough Village, Scar...\n6      M1K\\n  Scarborough\\n  Kennedy Park, Ionview, East Birchmount Park, K...\n7      M1L\\n  Scarborough\\n  Golden Mile, Clairlea, Oakridge, Golden Mile, ...\n8      M1M\\n  Scarborough\\n  Cliffside, Cliffcrest, Scarborough Village Wes...\n9      M1N\\n  Scarborough\\n  Birch Cliff, Cliffside West, Birch Cliff, Clif...",
                        "text/html": "<div>\n<style scoped>\n    .dataframe tbody tr th:only-of-type {\n        vertical-align: middle;\n    }\n\n    .dataframe tbody tr th {\n        vertical-align: top;\n    }\n\n    .dataframe thead th {\n        text-align: right;\n    }\n</style>\n<table border=\"1\" class=\"dataframe\">\n  <thead>\n    <tr style=\"text-align: right;\">\n      <th></th>\n      <th>Postalcode</th>\n      <th>Borough</th>\n      <th>Neighborhood</th>\n    </tr>\n  </thead>\n  <tbody>\n    <tr>\n      <th>0</th>\n      <td>M1B\\n</td>\n      <td>Scarborough\\n</td>\n      <td>Malvern, Rouge, Malvern, Rouge, Malvern, Rouge...</td>\n    </tr>\n    <tr>\n      <th>1</th>\n      <td>M1C\\n</td>\n      <td>Scarborough\\n</td>\n      <td>Rouge Hill, Port Union, Highland Creek, Rouge ...</td>\n    </tr>\n    <tr>\n      <th>2</th>\n      <td>M1E\\n</td>\n      <td>Scarborough\\n</td>\n      <td>Guildwood, Morningside, West Hill, Guildwood, ...</td>\n    </tr>\n    <tr>\n      <th>3</th>\n      <td>M1G\\n</td>\n      <td>Scarborough\\n</td>\n      <td>Woburn, Woburn, Woburn, Woburn</td>\n    </tr>\n    <tr>\n      <th>4</th>\n      <td>M1H\\n</td>\n      <td>Scarborough\\n</td>\n      <td>Cedarbrae, Cedarbrae, Cedarbrae, Cedarbrae</td>\n    </tr>\n    <tr>\n      <th>5</th>\n      <td>M1J\\n</td>\n      <td>Scarborough\\n</td>\n      <td>Scarborough Village, Scarborough Village, Scar...</td>\n    </tr>\n    <tr>\n      <th>6</th>\n      <td>M1K\\n</td>\n      <td>Scarborough\\n</td>\n      <td>Kennedy Park, Ionview, East Birchmount Park, K...</td>\n    </tr>\n    <tr>\n      <th>7</th>\n      <td>M1L\\n</td>\n      <td>Scarborough\\n</td>\n      <td>Golden Mile, Clairlea, Oakridge, Golden Mile, ...</td>\n    </tr>\n    <tr>\n      <th>8</th>\n      <td>M1M\\n</td>\n      <td>Scarborough\\n</td>\n      <td>Cliffside, Cliffcrest, Scarborough Village Wes...</td>\n    </tr>\n    <tr>\n      <th>9</th>\n      <td>M1N\\n</td>\n      <td>Scarborough\\n</td>\n      <td>Birch Cliff, Cliffside West, Birch Cliff, Clif...</td>\n    </tr>\n  </tbody>\n</table>\n</div>"
                    },
                    "metadata": {}
                }
            ]
        },
        {
            "metadata": {},
            "cell_type": "code",
            "source": "print('The DataFrame shape is', df.shape)",
            "execution_count": 58,
            "outputs": [
                {
                    "output_type": "stream",
                    "text": "The DataFrame shape is (103, 3)\n",
                    "name": "stdout"
                }
            ]
        }
    ],
    "metadata": {
        "kernelspec": {
            "name": "python3",
            "display_name": "Python 3.6",
            "language": "python"
        },
        "language_info": {
            "name": "python",
            "version": "3.6.9",
            "mimetype": "text/x-python",
            "codemirror_mode": {
                "name": "ipython",
                "version": 3
            },
            "pygments_lexer": "ipython3",
            "nbconvert_exporter": "python",
            "file_extension": ".py"
        }
    },
    "nbformat": 4,
    "nbformat_minor": 1
}