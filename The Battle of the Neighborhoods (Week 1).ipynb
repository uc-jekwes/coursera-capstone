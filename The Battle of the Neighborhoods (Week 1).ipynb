{
    "cells": [
        {
            "metadata": {},
            "cell_type": "markdown",
            "source": "# **The Battle of the Neighborhoods (Week 1)**"
        },
        {
            "metadata": {},
            "cell_type": "markdown",
            "source": "### **Introduction**"
        },
        {
            "metadata": {},
            "cell_type": "markdown",
            "source": "**Background**\n\nNew York is the most populous city in the United States. It is diverse and is the financial capital of USA. It is a global hub of business and commerce. The city is a major center for banking and finance, retailing, world trade, transportation, tourism, real estate, new media, traditional media, advertising, legal services, accountancy, insurance, theater, fashion, and the arts in the United States.\nIn 2019, New York had its first case of coronavirus disease 2019 (Covid-19) pandemic and 2020 emerged as the United States major epicenter."
        },
        {
            "metadata": {},
            "cell_type": "markdown",
            "source": "**Problem Description**\n\nThe first case of coronavirus in New York was identified in New York City on February 29. Soon after, the city cautioned against public gatherings, and New Rochelle, New York, closed schools as the virus spread quickly there. With more than 80,000 cases and 4,260 coronavirus deaths, according to the city's website, New York is one of the major epicenters for the coronavirus outbreak in the United States.\nIt is evident that to survive and curb the various more testing must be done, and this study aids to shows the areas with more cases. it is very important to strategically plan how to distribute testing kits to areas gravely infected.\n"
        },
        {
            "metadata": {},
            "cell_type": "markdown",
            "source": "**Why Data?**\n\nWithout leveraging data to make decisions about locations, the country will end up distributing testing material to locations where they are not needed. Data will provide better answers and better solutions to their task at hand."
        },
        {
            "metadata": {},
            "cell_type": "markdown",
            "source": "**Criteria**\n\nThe analysis will focus on areas in New York and, not on specific boroughs. Narrowing down the area options derived from analysis allows for either further research to be conducted.\n\n**Outcome**\n\nThe success criteria of the project will be a good recommendation of city in New York with the highest number of Covid 19 cases."
        },
        {
            "metadata": {},
            "cell_type": "markdown",
            "source": "### **The Data Science Workflow**"
        },
        {
            "metadata": {},
            "cell_type": "markdown",
            "source": "**The Data Science Workflow for Part 1 & 2 includes the following:**"
        },
        {
            "metadata": {},
            "cell_type": "markdown",
            "source": "**Outline the initial data that is required:**\n\n\u2022\tDistrict data for New York including names, location data if available, and any other details required."
        },
        {
            "metadata": {},
            "cell_type": "markdown",
            "source": "**Obtain the Data:**\n\n\u2022 Research and find suitable sources for the district data for New York.\n\u2022 Access and explore the data to determine if it can be manipulated for our purposes.\n\n**Initial Data Wrangling and Cleaning:**\n    \n\u2022 Clean the data and convert to a useable form as a dataframe.\n\n**The Data Science Workflow for parts 3 & 4 includes:**\n\n**Data Analysis and Location Data:**\n\n\u2022 Data manipulation and analysis to derive subsets of the initial data.\n\u2022 Identifying the high traffic areas using data visualisation and statistical analysis\n\n**Visualization:**\n\n\u2022 Analysis and plotting visualizations\n\u2022 Identifying the high traffic areas using data visualisation and statistical analysis.\n\n**Discussion and Conclusions:**\n\n\u2022 Recommendations and results based on the data analysis.\n\u2022 Discussion of any limitations and how the results can be used, and any conclusions that can be drawn\n"
        },
        {
            "metadata": {},
            "cell_type": "code",
            "source": "",
            "execution_count": null,
            "outputs": []
        }
    ],
    "metadata": {
        "kernelspec": {
            "name": "python3",
            "display_name": "Python 3.6",
            "language": "python"
        },
        "language_info": {
            "name": "python",
            "version": "3.6.9",
            "mimetype": "text/x-python",
            "codemirror_mode": {
                "name": "ipython",
                "version": 3
            },
            "pygments_lexer": "ipython3",
            "nbconvert_exporter": "python",
            "file_extension": ".py"
        }
    },
    "nbformat": 4,
    "nbformat_minor": 1
}